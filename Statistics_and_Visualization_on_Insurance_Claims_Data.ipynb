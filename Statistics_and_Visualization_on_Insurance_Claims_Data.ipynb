{
 "cells": [
  {
   "cell_type": "code",
   "execution_count": 1,
   "id": "43d37028",
   "metadata": {},
   "outputs": [],
   "source": [
    "import pandas as pd\n",
    "import numpy as np\n",
    "import matplotlib.pyplot as plt\n",
    "import datetime as dt\n",
    "import seaborn as sns\n",
    "import re\n",
    "\n",
    "# set the graphs to show in the jupyter notebook\n",
    "%matplotlib inline\n",
    "\n",
    "# set seaborn graphs to a better style\n",
    "sns.set(style=\"ticks\")"
   ]
  },
  {
   "cell_type": "code",
   "execution_count": 26,
   "id": "0af3d4d2",
   "metadata": {},
   "outputs": [],
   "source": [
    "claims = pd.read_csv('claims.csv')"
   ]
  },
  {
   "cell_type": "code",
   "execution_count": 27,
   "id": "7c248f76",
   "metadata": {},
   "outputs": [],
   "source": [
    "cust_demographics = pd.read_csv('cust_demographics.csv')"
   ]
  },
  {
   "cell_type": "code",
   "execution_count": 28,
   "id": "1c134d96",
   "metadata": {},
   "outputs": [
    {
     "data": {
      "text/html": [
       "<div>\n",
       "<style scoped>\n",
       "    .dataframe tbody tr th:only-of-type {\n",
       "        vertical-align: middle;\n",
       "    }\n",
       "\n",
       "    .dataframe tbody tr th {\n",
       "        vertical-align: top;\n",
       "    }\n",
       "\n",
       "    .dataframe thead th {\n",
       "        text-align: right;\n",
       "    }\n",
       "</style>\n",
       "<table border=\"1\" class=\"dataframe\">\n",
       "  <thead>\n",
       "    <tr style=\"text-align: right;\">\n",
       "      <th></th>\n",
       "      <th>0</th>\n",
       "      <th>1</th>\n",
       "      <th>2</th>\n",
       "      <th>3</th>\n",
       "      <th>4</th>\n",
       "    </tr>\n",
       "  </thead>\n",
       "  <tbody>\n",
       "    <tr>\n",
       "      <th>claim_id</th>\n",
       "      <td>54004764</td>\n",
       "      <td>33985796</td>\n",
       "      <td>53522022</td>\n",
       "      <td>13015401</td>\n",
       "      <td>22890252</td>\n",
       "    </tr>\n",
       "    <tr>\n",
       "      <th>customer_id</th>\n",
       "      <td>21868593</td>\n",
       "      <td>75740424</td>\n",
       "      <td>30308357</td>\n",
       "      <td>47830476</td>\n",
       "      <td>19269962</td>\n",
       "    </tr>\n",
       "    <tr>\n",
       "      <th>incident_cause</th>\n",
       "      <td>Driver error</td>\n",
       "      <td>Crime</td>\n",
       "      <td>Other driver error</td>\n",
       "      <td>Natural causes</td>\n",
       "      <td>Crime</td>\n",
       "    </tr>\n",
       "    <tr>\n",
       "      <th>claim_date</th>\n",
       "      <td>11/27/2017</td>\n",
       "      <td>10/03/2018</td>\n",
       "      <td>02/02/2018</td>\n",
       "      <td>06/17/2018</td>\n",
       "      <td>01/13/2018</td>\n",
       "    </tr>\n",
       "    <tr>\n",
       "      <th>claim_area</th>\n",
       "      <td>Auto</td>\n",
       "      <td>Home</td>\n",
       "      <td>Auto</td>\n",
       "      <td>Auto</td>\n",
       "      <td>Auto</td>\n",
       "    </tr>\n",
       "    <tr>\n",
       "      <th>police_report</th>\n",
       "      <td>No</td>\n",
       "      <td>Unknown</td>\n",
       "      <td>No</td>\n",
       "      <td>No</td>\n",
       "      <td>No</td>\n",
       "    </tr>\n",
       "    <tr>\n",
       "      <th>claim_type</th>\n",
       "      <td>Material only</td>\n",
       "      <td>Material only</td>\n",
       "      <td>Material only</td>\n",
       "      <td>Material only</td>\n",
       "      <td>Material only</td>\n",
       "    </tr>\n",
       "    <tr>\n",
       "      <th>claim_amount</th>\n",
       "      <td>$2980</td>\n",
       "      <td>$2980</td>\n",
       "      <td>$3369.5</td>\n",
       "      <td>$1680</td>\n",
       "      <td>$2680</td>\n",
       "    </tr>\n",
       "    <tr>\n",
       "      <th>total_policy_claims</th>\n",
       "      <td>1.0</td>\n",
       "      <td>3.0</td>\n",
       "      <td>1.0</td>\n",
       "      <td>1.0</td>\n",
       "      <td>1.0</td>\n",
       "    </tr>\n",
       "    <tr>\n",
       "      <th>fraudulent</th>\n",
       "      <td>No</td>\n",
       "      <td>No</td>\n",
       "      <td>Yes</td>\n",
       "      <td>No</td>\n",
       "      <td>No</td>\n",
       "    </tr>\n",
       "  </tbody>\n",
       "</table>\n",
       "</div>"
      ],
      "text/plain": [
       "                                 0              1                   2  \\\n",
       "claim_id                  54004764       33985796            53522022   \n",
       "customer_id               21868593       75740424            30308357   \n",
       "incident_cause        Driver error          Crime  Other driver error   \n",
       "claim_date              11/27/2017     10/03/2018          02/02/2018   \n",
       "claim_area                    Auto           Home                Auto   \n",
       "police_report                   No        Unknown                  No   \n",
       "claim_type           Material only  Material only       Material only   \n",
       "claim_amount                 $2980          $2980             $3369.5   \n",
       "total_policy_claims            1.0            3.0                 1.0   \n",
       "fraudulent                      No             No                 Yes   \n",
       "\n",
       "                                  3              4  \n",
       "claim_id                   13015401       22890252  \n",
       "customer_id                47830476       19269962  \n",
       "incident_cause       Natural causes          Crime  \n",
       "claim_date               06/17/2018     01/13/2018  \n",
       "claim_area                     Auto           Auto  \n",
       "police_report                    No             No  \n",
       "claim_type            Material only  Material only  \n",
       "claim_amount                  $1680          $2680  \n",
       "total_policy_claims             1.0            1.0  \n",
       "fraudulent                       No             No  "
      ]
     },
     "execution_count": 28,
     "metadata": {},
     "output_type": "execute_result"
    }
   ],
   "source": [
    "claims.head().T"
   ]
  },
  {
   "cell_type": "code",
   "execution_count": 29,
   "id": "55c2658f",
   "metadata": {},
   "outputs": [
    {
     "data": {
      "text/html": [
       "<div>\n",
       "<style scoped>\n",
       "    .dataframe tbody tr th:only-of-type {\n",
       "        vertical-align: middle;\n",
       "    }\n",
       "\n",
       "    .dataframe tbody tr th {\n",
       "        vertical-align: top;\n",
       "    }\n",
       "\n",
       "    .dataframe thead th {\n",
       "        text-align: right;\n",
       "    }\n",
       "</style>\n",
       "<table border=\"1\" class=\"dataframe\">\n",
       "  <thead>\n",
       "    <tr style=\"text-align: right;\">\n",
       "      <th></th>\n",
       "      <th>CUST_ID</th>\n",
       "      <th>gender</th>\n",
       "      <th>DateOfBirth</th>\n",
       "      <th>State</th>\n",
       "      <th>Contact</th>\n",
       "      <th>Segment</th>\n",
       "    </tr>\n",
       "  </thead>\n",
       "  <tbody>\n",
       "    <tr>\n",
       "      <th>0</th>\n",
       "      <td>21868593</td>\n",
       "      <td>Female</td>\n",
       "      <td>12-Jan-79</td>\n",
       "      <td>VT</td>\n",
       "      <td>789-916-8172</td>\n",
       "      <td>Platinum</td>\n",
       "    </tr>\n",
       "    <tr>\n",
       "      <th>1</th>\n",
       "      <td>75740424</td>\n",
       "      <td>Female</td>\n",
       "      <td>13-Jan-70</td>\n",
       "      <td>ME</td>\n",
       "      <td>265-543-1264</td>\n",
       "      <td>Silver</td>\n",
       "    </tr>\n",
       "  </tbody>\n",
       "</table>\n",
       "</div>"
      ],
      "text/plain": [
       "    CUST_ID  gender DateOfBirth State       Contact   Segment\n",
       "0  21868593  Female   12-Jan-79    VT  789-916-8172  Platinum\n",
       "1  75740424  Female   13-Jan-70    ME  265-543-1264    Silver"
      ]
     },
     "execution_count": 29,
     "metadata": {},
     "output_type": "execute_result"
    }
   ],
   "source": [
    "cust_demographics.head(2)"
   ]
  },
  {
   "cell_type": "code",
   "execution_count": 30,
   "id": "3b2b6c84",
   "metadata": {},
   "outputs": [
    {
     "name": "stdout",
     "output_type": "stream",
     "text": [
      "<class 'pandas.core.frame.DataFrame'>\n",
      "RangeIndex: 1100 entries, 0 to 1099\n",
      "Data columns (total 10 columns):\n",
      " #   Column               Non-Null Count  Dtype  \n",
      "---  ------               --------------  -----  \n",
      " 0   claim_id             1100 non-null   int64  \n",
      " 1   customer_id          1100 non-null   int64  \n",
      " 2   incident_cause       1100 non-null   object \n",
      " 3   claim_date           1100 non-null   object \n",
      " 4   claim_area           1100 non-null   object \n",
      " 5   police_report        1100 non-null   object \n",
      " 6   claim_type           1100 non-null   object \n",
      " 7   claim_amount         1035 non-null   object \n",
      " 8   total_policy_claims  1090 non-null   float64\n",
      " 9   fraudulent           1100 non-null   object \n",
      "dtypes: float64(1), int64(2), object(7)\n",
      "memory usage: 86.1+ KB\n"
     ]
    }
   ],
   "source": [
    "claims.info()"
   ]
  },
  {
   "cell_type": "code",
   "execution_count": 31,
   "id": "4cc08d0d",
   "metadata": {},
   "outputs": [
    {
     "name": "stdout",
     "output_type": "stream",
     "text": [
      "<class 'pandas.core.frame.DataFrame'>\n",
      "RangeIndex: 1085 entries, 0 to 1084\n",
      "Data columns (total 6 columns):\n",
      " #   Column       Non-Null Count  Dtype \n",
      "---  ------       --------------  ----- \n",
      " 0   CUST_ID      1085 non-null   int64 \n",
      " 1   gender       1085 non-null   object\n",
      " 2   DateOfBirth  1085 non-null   object\n",
      " 3   State        1085 non-null   object\n",
      " 4   Contact      1085 non-null   object\n",
      " 5   Segment      1085 non-null   object\n",
      "dtypes: int64(1), object(5)\n",
      "memory usage: 51.0+ KB\n"
     ]
    }
   ],
   "source": [
    "cust_demographics.info()"
   ]
  },
  {
   "cell_type": "markdown",
   "id": "fcbfa9c1",
   "metadata": {},
   "source": [
    "#### Merging datasets "
   ]
  },
  {
   "cell_type": "code",
   "execution_count": 32,
   "id": "81b22783",
   "metadata": {},
   "outputs": [],
   "source": [
    "cust_claims = claims.merge(cust_demographics,how='inner',left_on='customer_id',\n",
    "                           right_on='CUST_ID')"
   ]
  },
  {
   "cell_type": "markdown",
   "id": "72cf4416",
   "metadata": {},
   "source": [
    "#### Checking for data types"
   ]
  },
  {
   "cell_type": "code",
   "execution_count": 33,
   "id": "d4eab571",
   "metadata": {},
   "outputs": [
    {
     "name": "stdout",
     "output_type": "stream",
     "text": [
      "<class 'pandas.core.frame.DataFrame'>\n",
      "Int64Index: 1085 entries, 0 to 1084\n",
      "Data columns (total 16 columns):\n",
      " #   Column               Non-Null Count  Dtype  \n",
      "---  ------               --------------  -----  \n",
      " 0   claim_id             1085 non-null   int64  \n",
      " 1   customer_id          1085 non-null   int64  \n",
      " 2   incident_cause       1085 non-null   object \n",
      " 3   claim_date           1085 non-null   object \n",
      " 4   claim_area           1085 non-null   object \n",
      " 5   police_report        1085 non-null   object \n",
      " 6   claim_type           1085 non-null   object \n",
      " 7   claim_amount         1020 non-null   object \n",
      " 8   total_policy_claims  1075 non-null   float64\n",
      " 9   fraudulent           1085 non-null   object \n",
      " 10  CUST_ID              1085 non-null   int64  \n",
      " 11  gender               1085 non-null   object \n",
      " 12  DateOfBirth          1085 non-null   object \n",
      " 13  State                1085 non-null   object \n",
      " 14  Contact              1085 non-null   object \n",
      " 15  Segment              1085 non-null   object \n",
      "dtypes: float64(1), int64(3), object(12)\n",
      "memory usage: 144.1+ KB\n"
     ]
    }
   ],
   "source": [
    "cust_claims.info()"
   ]
  },
  {
   "cell_type": "markdown",
   "id": "9c8af3f2",
   "metadata": {},
   "source": [
    "'claim_date' and 'DateOfBirth' are 'object' datatype. We will convert to datetime.\n",
    "\n",
    "'claim_amount' should be 'numeric' data type."
   ]
  },
  {
   "cell_type": "code",
   "execution_count": 34,
   "id": "54e4c939",
   "metadata": {},
   "outputs": [],
   "source": [
    "cust_claims['claim_date'] = pd.to_datetime(cust_claims['claim_date'],format='%m/%d/%Y')\n",
    "cust_claims['DateOfBirth'] = pd.to_datetime(cust_claims['DateOfBirth'],format='%d-%b-%y')"
   ]
  },
  {
   "cell_type": "markdown",
   "id": "6642f20d",
   "metadata": {},
   "source": [
    "#### Data Cleaning"
   ]
  },
  {
   "cell_type": "code",
   "execution_count": 35,
   "id": "dc3a3c52",
   "metadata": {},
   "outputs": [
    {
     "data": {
      "text/plain": [
       "array([1979, 1970, 1984, 1986, 1977, 1999, 1993, 2066, 1985, 1990, 2063,\n",
       "       1969, 1987, 2065, 2067, 1974, 1980, 1981, 1995, 1996, 2062, 1994,\n",
       "       2068, 1971, 1988, 1989, 1976, 1975, 2064, 1998, 2060, 2061, 1972,\n",
       "       1992, 1997, 1973, 1982, 1978, 1991, 1983])"
      ]
     },
     "execution_count": 35,
     "metadata": {},
     "output_type": "execute_result"
    }
   ],
   "source": [
    "# Year of birth before 1969 is wrongly entered as '20--'. \n",
    "cust_claims['DateOfBirth'].dt.year.unique()"
   ]
  },
  {
   "cell_type": "code",
   "execution_count": 36,
   "id": "d2efd223",
   "metadata": {},
   "outputs": [],
   "source": [
    "# Function to correct date of birth\n",
    "def correct_year(date):\n",
    "    if int(date.strftime(\"%y\")) < 69:\n",
    "        crct_date = date.replace(year = date.year -100)\n",
    "    else:\n",
    "        crct_date = date\n",
    "    return crct_date      \n",
    "\n",
    "cust_claims['DOB_crct'] = cust_claims['DateOfBirth'].apply(correct_year)"
   ]
  },
  {
   "cell_type": "code",
   "execution_count": 37,
   "id": "d9ed4b7d",
   "metadata": {},
   "outputs": [
    {
     "data": {
      "text/plain": [
       "array([1979, 1970, 1984, 1986, 1977, 1999, 1993, 1966, 1985, 1990, 1963,\n",
       "       1969, 1987, 1965, 1967, 1974, 1980, 1981, 1995, 1996, 1962, 1994,\n",
       "       1968, 1971, 1988, 1989, 1976, 1975, 1964, 1998, 1960, 1961, 1972,\n",
       "       1992, 1997, 1973, 1982, 1978, 1991, 1983])"
      ]
     },
     "execution_count": 37,
     "metadata": {},
     "output_type": "execute_result"
    }
   ],
   "source": [
    "cust_claims['DOB_crct'].dt.year.unique()"
   ]
  },
  {
   "cell_type": "code",
   "execution_count": null,
   "id": "b3052d7d",
   "metadata": {},
   "outputs": [],
   "source": []
  },
  {
   "cell_type": "code",
   "execution_count": 38,
   "id": "79571a63",
   "metadata": {},
   "outputs": [],
   "source": [
    "import warnings\n",
    "warnings.filterwarnings(\"ignore\")"
   ]
  },
  {
   "cell_type": "code",
   "execution_count": 39,
   "id": "8fb290a8",
   "metadata": {},
   "outputs": [],
   "source": [
    "# Remove $ sign form 'claim_amount'\n",
    "cust_claims['claim_amount'] = pd.to_numeric(cust_claims['claim_amount'].str.\\\n",
    "                                            replace('$',''))"
   ]
  },
  {
   "cell_type": "code",
   "execution_count": 40,
   "id": "1024f4e7",
   "metadata": {},
   "outputs": [
    {
     "name": "stdout",
     "output_type": "stream",
     "text": [
      "<class 'pandas.core.frame.DataFrame'>\n",
      "Int64Index: 1085 entries, 0 to 1084\n",
      "Data columns (total 17 columns):\n",
      " #   Column               Non-Null Count  Dtype         \n",
      "---  ------               --------------  -----         \n",
      " 0   claim_id             1085 non-null   int64         \n",
      " 1   customer_id          1085 non-null   int64         \n",
      " 2   incident_cause       1085 non-null   object        \n",
      " 3   claim_date           1085 non-null   datetime64[ns]\n",
      " 4   claim_area           1085 non-null   object        \n",
      " 5   police_report        1085 non-null   object        \n",
      " 6   claim_type           1085 non-null   object        \n",
      " 7   claim_amount         1020 non-null   float64       \n",
      " 8   total_policy_claims  1075 non-null   float64       \n",
      " 9   fraudulent           1085 non-null   object        \n",
      " 10  CUST_ID              1085 non-null   int64         \n",
      " 11  gender               1085 non-null   object        \n",
      " 12  DateOfBirth          1085 non-null   datetime64[ns]\n",
      " 13  State                1085 non-null   object        \n",
      " 14  Contact              1085 non-null   object        \n",
      " 15  Segment              1085 non-null   object        \n",
      " 16  DOB_crct             1085 non-null   datetime64[ns]\n",
      "dtypes: datetime64[ns](3), float64(2), int64(3), object(9)\n",
      "memory usage: 152.6+ KB\n"
     ]
    }
   ],
   "source": [
    "cust_claims.info()"
   ]
  },
  {
   "cell_type": "markdown",
   "id": "4c1a9d56",
   "metadata": {},
   "source": [
    "#### Checking for Missing Values"
   ]
  },
  {
   "cell_type": "code",
   "execution_count": 41,
   "id": "6497f21c",
   "metadata": {},
   "outputs": [
    {
     "data": {
      "text/plain": [
       "claim_id                0\n",
       "customer_id             0\n",
       "incident_cause          0\n",
       "claim_date              0\n",
       "claim_area              0\n",
       "police_report           0\n",
       "claim_type              0\n",
       "claim_amount           65\n",
       "total_policy_claims    10\n",
       "fraudulent              0\n",
       "CUST_ID                 0\n",
       "gender                  0\n",
       "DateOfBirth             0\n",
       "State                   0\n",
       "Contact                 0\n",
       "Segment                 0\n",
       "DOB_crct                0\n",
       "dtype: int64"
      ]
     },
     "execution_count": 41,
     "metadata": {},
     "output_type": "execute_result"
    }
   ],
   "source": [
    "cust_claims.isna().sum()"
   ]
  },
  {
   "cell_type": "code",
   "execution_count": 42,
   "id": "3284d0a4",
   "metadata": {},
   "outputs": [],
   "source": [
    "# Replace 'claim_amount' by mean and 'total_policy_claims' by mode\n",
    "cust_claims['claim_amount'].fillna(cust_claims['claim_amount'].mean(), inplace=True)\n",
    "cust_claims['total_policy_claims'].fillna(cust_claims['total_policy_claims'].mode()[0],\\\n",
    "                                          inplace=True)"
   ]
  },
  {
   "cell_type": "markdown",
   "id": "522f58ae",
   "metadata": {},
   "source": [
    "#### Checking for duplicates based on customer_id"
   ]
  },
  {
   "cell_type": "code",
   "execution_count": 44,
   "id": "ba9006bd",
   "metadata": {},
   "outputs": [
    {
     "data": {
      "text/html": [
       "<div>\n",
       "<style scoped>\n",
       "    .dataframe tbody tr th:only-of-type {\n",
       "        vertical-align: middle;\n",
       "    }\n",
       "\n",
       "    .dataframe tbody tr th {\n",
       "        vertical-align: top;\n",
       "    }\n",
       "\n",
       "    .dataframe thead th {\n",
       "        text-align: right;\n",
       "    }\n",
       "</style>\n",
       "<table border=\"1\" class=\"dataframe\">\n",
       "  <thead>\n",
       "    <tr style=\"text-align: right;\">\n",
       "      <th></th>\n",
       "      <th>claim_id</th>\n",
       "      <th>customer_id</th>\n",
       "      <th>incident_cause</th>\n",
       "      <th>claim_date</th>\n",
       "      <th>claim_area</th>\n",
       "      <th>police_report</th>\n",
       "      <th>claim_type</th>\n",
       "      <th>claim_amount</th>\n",
       "      <th>total_policy_claims</th>\n",
       "      <th>fraudulent</th>\n",
       "      <th>CUST_ID</th>\n",
       "      <th>gender</th>\n",
       "      <th>DateOfBirth</th>\n",
       "      <th>State</th>\n",
       "      <th>Contact</th>\n",
       "      <th>Segment</th>\n",
       "      <th>DOB_crct</th>\n",
       "    </tr>\n",
       "  </thead>\n",
       "  <tbody>\n",
       "    <tr>\n",
       "      <th>3</th>\n",
       "      <td>63017412</td>\n",
       "      <td>30308357</td>\n",
       "      <td>Driver error</td>\n",
       "      <td>2018-04-04</td>\n",
       "      <td>Auto</td>\n",
       "      <td>No</td>\n",
       "      <td>Material only</td>\n",
       "      <td>1950.0</td>\n",
       "      <td>6.0</td>\n",
       "      <td>No</td>\n",
       "      <td>30308357</td>\n",
       "      <td>Female</td>\n",
       "      <td>1984-03-11</td>\n",
       "      <td>TN</td>\n",
       "      <td>798-631-4758</td>\n",
       "      <td>Silver</td>\n",
       "      <td>1984-03-11</td>\n",
       "    </tr>\n",
       "    <tr>\n",
       "      <th>5</th>\n",
       "      <td>91609100</td>\n",
       "      <td>47830476</td>\n",
       "      <td>Natural causes</td>\n",
       "      <td>2017-04-12</td>\n",
       "      <td>Auto</td>\n",
       "      <td>Unknown</td>\n",
       "      <td>Material only</td>\n",
       "      <td>1440.0</td>\n",
       "      <td>1.0</td>\n",
       "      <td>No</td>\n",
       "      <td>47830476</td>\n",
       "      <td>Female</td>\n",
       "      <td>1986-05-01</td>\n",
       "      <td>MA</td>\n",
       "      <td>413-187-7945</td>\n",
       "      <td>Silver</td>\n",
       "      <td>1986-05-01</td>\n",
       "    </tr>\n",
       "    <tr>\n",
       "      <th>7</th>\n",
       "      <td>39219616</td>\n",
       "      <td>19269962</td>\n",
       "      <td>Other causes</td>\n",
       "      <td>2018-09-26</td>\n",
       "      <td>Auto</td>\n",
       "      <td>No</td>\n",
       "      <td>Material only</td>\n",
       "      <td>2240.0</td>\n",
       "      <td>2.0</td>\n",
       "      <td>No</td>\n",
       "      <td>19269962</td>\n",
       "      <td>Male</td>\n",
       "      <td>1977-05-13</td>\n",
       "      <td>NV</td>\n",
       "      <td>956-871-8691</td>\n",
       "      <td>Gold</td>\n",
       "      <td>1977-05-13</td>\n",
       "    </tr>\n",
       "    <tr>\n",
       "      <th>9</th>\n",
       "      <td>91475471</td>\n",
       "      <td>21831191</td>\n",
       "      <td>Driver error</td>\n",
       "      <td>2018-02-09</td>\n",
       "      <td>Auto</td>\n",
       "      <td>Unknown</td>\n",
       "      <td>Material and injury</td>\n",
       "      <td>36810.0</td>\n",
       "      <td>1.0</td>\n",
       "      <td>No</td>\n",
       "      <td>21831191</td>\n",
       "      <td>Male</td>\n",
       "      <td>1977-05-17</td>\n",
       "      <td>NH</td>\n",
       "      <td>419-712-8513</td>\n",
       "      <td>Gold</td>\n",
       "      <td>1977-05-17</td>\n",
       "    </tr>\n",
       "    <tr>\n",
       "      <th>608</th>\n",
       "      <td>78221963</td>\n",
       "      <td>84147585</td>\n",
       "      <td>Driver error</td>\n",
       "      <td>2018-04-10</td>\n",
       "      <td>Auto</td>\n",
       "      <td>Yes</td>\n",
       "      <td>Injury only</td>\n",
       "      <td>14430.0</td>\n",
       "      <td>4.0</td>\n",
       "      <td>No</td>\n",
       "      <td>84147585</td>\n",
       "      <td>Male</td>\n",
       "      <td>1972-10-18</td>\n",
       "      <td>AK</td>\n",
       "      <td>743-569-4783</td>\n",
       "      <td>Gold</td>\n",
       "      <td>1972-10-18</td>\n",
       "    </tr>\n",
       "    <tr>\n",
       "      <th>610</th>\n",
       "      <td>1654201</td>\n",
       "      <td>85357756</td>\n",
       "      <td>Driver error</td>\n",
       "      <td>2018-06-23</td>\n",
       "      <td>Auto</td>\n",
       "      <td>Unknown</td>\n",
       "      <td>Material only</td>\n",
       "      <td>2510.0</td>\n",
       "      <td>1.0</td>\n",
       "      <td>No</td>\n",
       "      <td>85357756</td>\n",
       "      <td>Male</td>\n",
       "      <td>1970-01-02</td>\n",
       "      <td>PA</td>\n",
       "      <td>915-698-3649</td>\n",
       "      <td>Platinum</td>\n",
       "      <td>1970-01-02</td>\n",
       "    </tr>\n",
       "    <tr>\n",
       "      <th>612</th>\n",
       "      <td>41779510</td>\n",
       "      <td>53539195</td>\n",
       "      <td>Driver error</td>\n",
       "      <td>2018-10-03</td>\n",
       "      <td>Home</td>\n",
       "      <td>No</td>\n",
       "      <td>Injury only</td>\n",
       "      <td>25040.0</td>\n",
       "      <td>1.0</td>\n",
       "      <td>No</td>\n",
       "      <td>53539195</td>\n",
       "      <td>Male</td>\n",
       "      <td>1989-10-02</td>\n",
       "      <td>NV</td>\n",
       "      <td>914-342-8239</td>\n",
       "      <td>Gold</td>\n",
       "      <td>1989-10-02</td>\n",
       "    </tr>\n",
       "  </tbody>\n",
       "</table>\n",
       "</div>"
      ],
      "text/plain": [
       "     claim_id  customer_id  incident_cause claim_date claim_area  \\\n",
       "3    63017412     30308357    Driver error 2018-04-04       Auto   \n",
       "5    91609100     47830476  Natural causes 2017-04-12       Auto   \n",
       "7    39219616     19269962    Other causes 2018-09-26       Auto   \n",
       "9    91475471     21831191    Driver error 2018-02-09       Auto   \n",
       "608  78221963     84147585    Driver error 2018-04-10       Auto   \n",
       "610   1654201     85357756    Driver error 2018-06-23       Auto   \n",
       "612  41779510     53539195    Driver error 2018-10-03       Home   \n",
       "\n",
       "    police_report           claim_type  claim_amount  total_policy_claims  \\\n",
       "3              No        Material only        1950.0                  6.0   \n",
       "5         Unknown        Material only        1440.0                  1.0   \n",
       "7              No        Material only        2240.0                  2.0   \n",
       "9         Unknown  Material and injury       36810.0                  1.0   \n",
       "608           Yes          Injury only       14430.0                  4.0   \n",
       "610       Unknown        Material only        2510.0                  1.0   \n",
       "612            No          Injury only       25040.0                  1.0   \n",
       "\n",
       "    fraudulent   CUST_ID  gender DateOfBirth State       Contact   Segment  \\\n",
       "3           No  30308357  Female  1984-03-11    TN  798-631-4758    Silver   \n",
       "5           No  47830476  Female  1986-05-01    MA  413-187-7945    Silver   \n",
       "7           No  19269962    Male  1977-05-13    NV  956-871-8691      Gold   \n",
       "9           No  21831191    Male  1977-05-17    NH  419-712-8513      Gold   \n",
       "608         No  84147585    Male  1972-10-18    AK  743-569-4783      Gold   \n",
       "610         No  85357756    Male  1970-01-02    PA  915-698-3649  Platinum   \n",
       "612         No  53539195    Male  1989-10-02    NV  914-342-8239      Gold   \n",
       "\n",
       "      DOB_crct  \n",
       "3   1984-03-11  \n",
       "5   1986-05-01  \n",
       "7   1977-05-13  \n",
       "9   1977-05-17  \n",
       "608 1972-10-18  \n",
       "610 1970-01-02  \n",
       "612 1989-10-02  "
      ]
     },
     "execution_count": 44,
     "metadata": {},
     "output_type": "execute_result"
    }
   ],
   "source": [
    "cust_claims[cust_claims.duplicated('customer_id')]"
   ]
  },
  {
   "cell_type": "code",
   "execution_count": 45,
   "id": "814a3eb5",
   "metadata": {},
   "outputs": [
    {
     "data": {
      "text/plain": [
       "7"
      ]
     },
     "execution_count": 45,
     "metadata": {},
     "output_type": "execute_result"
    }
   ],
   "source": [
    "cust_claims.duplicated('customer_id').sum()"
   ]
  },
  {
   "cell_type": "code",
   "execution_count": 46,
   "id": "90edd5f1",
   "metadata": {},
   "outputs": [],
   "source": [
    "# Sorting the data by claim date\n",
    "cust_claims.sort_values(by=['claim_date'],inplace=True)"
   ]
  },
  {
   "cell_type": "code",
   "execution_count": 47,
   "id": "94e40d6c",
   "metadata": {},
   "outputs": [],
   "source": [
    "#Dropping the duplicates by retaining the most recent record\n",
    "cust_claims.drop_duplicates('customer_id',keep='last',inplace=True)"
   ]
  },
  {
   "cell_type": "code",
   "execution_count": 48,
   "id": "9708113b",
   "metadata": {},
   "outputs": [
    {
     "data": {
      "text/plain": [
       "0"
      ]
     },
     "execution_count": 48,
     "metadata": {},
     "output_type": "execute_result"
    }
   ],
   "source": [
    "cust_claims.duplicated('customer_id').sum()"
   ]
  },
  {
   "cell_type": "markdown",
   "id": "4b8cca3f",
   "metadata": {},
   "source": [
    "#### Creating 'Age' category for customers"
   ]
  },
  {
   "cell_type": "code",
   "execution_count": 49,
   "id": "6515146a",
   "metadata": {},
   "outputs": [],
   "source": [
    "# First calculating 'age' of customers\n",
    "cust_claims['Age'] = ((cust_claims['claim_date']-cust_claims['DOB_crct'])/np.timedelta64(1, 'Y')).round()"
   ]
  },
  {
   "cell_type": "code",
   "execution_count": 50,
   "id": "45f9e4b4",
   "metadata": {},
   "outputs": [
    {
     "data": {
      "text/plain": [
       "739     46.0\n",
       "181     22.0\n",
       "312     41.0\n",
       "905     23.0\n",
       "120     52.0\n",
       "        ... \n",
       "354     42.0\n",
       "286     51.0\n",
       "226     44.0\n",
       "1077    55.0\n",
       "1055    51.0\n",
       "Name: Age, Length: 1078, dtype: float64"
      ]
     },
     "execution_count": 50,
     "metadata": {},
     "output_type": "execute_result"
    }
   ],
   "source": [
    "cust_claims['Age']"
   ]
  },
  {
   "cell_type": "code",
   "execution_count": 51,
   "id": "80efc42d",
   "metadata": {},
   "outputs": [],
   "source": [
    "# Function to put customers into different age-groups\n",
    "def age_group(age):\n",
    "    if age < 18:\n",
    "        group = \"Children\"\n",
    "    elif age >= 18 and age <= 30:\n",
    "        group = \"Youth\"\n",
    "    elif age > 30 and age <= 60 : \n",
    "        group = \"Adult\"\n",
    "    else:\n",
    "        group = \"Senior\"\n",
    "    \n",
    "    return group"
   ]
  },
  {
   "cell_type": "code",
   "execution_count": 52,
   "id": "570a4aa3",
   "metadata": {},
   "outputs": [],
   "source": [
    "cust_claims[\"Age_Group\"] = cust_claims[\"Age\"].apply(age_group)"
   ]
  },
  {
   "cell_type": "code",
   "execution_count": 53,
   "id": "d5273b7d",
   "metadata": {},
   "outputs": [
    {
     "data": {
      "text/plain": [
       "Adult       730\n",
       "Youth       346\n",
       "Children      2\n",
       "Name: Age_Group, dtype: int64"
      ]
     },
     "execution_count": 53,
     "metadata": {},
     "output_type": "execute_result"
    }
   ],
   "source": [
    "cust_claims[\"Age_Group\"].value_counts()"
   ]
  },
  {
   "cell_type": "markdown",
   "id": "f514fc7a",
   "metadata": {},
   "source": [
    "#### Creating Alert Flag for unreported police claims"
   ]
  },
  {
   "cell_type": "code",
   "execution_count": 54,
   "id": "f677b709",
   "metadata": {},
   "outputs": [
    {
     "data": {
      "text/plain": [
       "No         616\n",
       "Unknown    294\n",
       "Yes        168\n",
       "Name: police_report, dtype: int64"
      ]
     },
     "execution_count": 54,
     "metadata": {},
     "output_type": "execute_result"
    }
   ],
   "source": [
    "cust_claims['police_report'].value_counts()"
   ]
  },
  {
   "cell_type": "code",
   "execution_count": 55,
   "id": "745b52cc",
   "metadata": {},
   "outputs": [],
   "source": [
    "cust_claims['police_flag'] = cust_claims['police_report'].\\\n",
    "                                apply(lambda x: 1 if x == 'Unknown' else 0)"
   ]
  },
  {
   "cell_type": "code",
   "execution_count": 56,
   "id": "79049c12",
   "metadata": {},
   "outputs": [
    {
     "data": {
      "text/plain": [
       "0    784\n",
       "1    294\n",
       "Name: police_flag, dtype: int64"
      ]
     },
     "execution_count": 56,
     "metadata": {},
     "output_type": "execute_result"
    }
   ],
   "source": [
    "cust_claims['police_flag'].value_counts()"
   ]
  },
  {
   "cell_type": "markdown",
   "id": "d42a3cdc",
   "metadata": {},
   "source": [
    "#### Some insights from the data"
   ]
  },
  {
   "cell_type": "markdown",
   "id": "e10ab88d",
   "metadata": {},
   "source": [
    "1. Average amount claimed by the customers from various segments"
   ]
  },
  {
   "cell_type": "code",
   "execution_count": 57,
   "id": "b7ef362e",
   "metadata": {},
   "outputs": [
    {
     "data": {
      "text/plain": [
       "Segment\n",
       "Gold        12844.0\n",
       "Platinum    12370.0\n",
       "Silver      12265.0\n",
       "Name: claim_amount, dtype: float64"
      ]
     },
     "execution_count": 57,
     "metadata": {},
     "output_type": "execute_result"
    }
   ],
   "source": [
    "cust_claims.groupby('Segment')['claim_amount'].mean().round()"
   ]
  },
  {
   "cell_type": "markdown",
   "id": "c731e159",
   "metadata": {},
   "source": [
    "2. Average amount claimed from various incident causes"
   ]
  },
  {
   "cell_type": "code",
   "execution_count": 113,
   "id": "21c5ce15",
   "metadata": {},
   "outputs": [
    {
     "data": {
      "text/plain": [
       "incident_cause\n",
       "Other causes          14867.0\n",
       "Other driver error    14476.0\n",
       "Driver error          13874.0\n",
       "Natural causes         7485.0\n",
       "Crime                  7071.0\n",
       "Name: claim_amount, dtype: float64"
      ]
     },
     "execution_count": 113,
     "metadata": {},
     "output_type": "execute_result"
    }
   ],
   "source": [
    "cust_claims.groupby('incident_cause')['claim_amount'].mean().round().\\\n",
    "                    sort_values(ascending=False)"
   ]
  },
  {
   "cell_type": "markdown",
   "id": "99602a07",
   "metadata": {},
   "source": [
    "3. Average amount claimed for 'claim_type'"
   ]
  },
  {
   "cell_type": "code",
   "execution_count": 117,
   "id": "1eb64de1",
   "metadata": {},
   "outputs": [
    {
     "data": {
      "text/plain": [
       "claim_type\n",
       "Material and injury    28145.0\n",
       "Injury only            25896.0\n",
       "Material only           2752.0\n",
       "Name: claim_amount, dtype: float64"
      ]
     },
     "execution_count": 117,
     "metadata": {},
     "output_type": "execute_result"
    }
   ],
   "source": [
    "cust_claims.groupby('claim_type')['claim_amount'].mean().round().\\\n",
    "                    sort_values(ascending=False)"
   ]
  },
  {
   "cell_type": "markdown",
   "id": "77e1bde7",
   "metadata": {},
   "source": [
    "4. Average amount claimed for 'claim_area'"
   ]
  },
  {
   "cell_type": "code",
   "execution_count": 119,
   "id": "d8a22ef7",
   "metadata": {},
   "outputs": [
    {
     "data": {
      "text/plain": [
       "claim_area\n",
       "Auto    12680.0\n",
       "Home    10976.0\n",
       "Name: claim_amount, dtype: float64"
      ]
     },
     "execution_count": 119,
     "metadata": {},
     "output_type": "execute_result"
    }
   ],
   "source": [
    "cust_claims.groupby('claim_area')['claim_amount'].mean().round().\\\n",
    "                    sort_values(ascending=False)"
   ]
  },
  {
   "cell_type": "markdown",
   "id": "cd7b8625",
   "metadata": {},
   "source": [
    "5. Number of adults from states TX, DE and AK who claimed insurance for driver\n",
    "related issues and causes"
   ]
  },
  {
   "cell_type": "code",
   "execution_count": 120,
   "id": "554df871",
   "metadata": {},
   "outputs": [
    {
     "data": {
      "text/plain": [
       "23"
      ]
     },
     "execution_count": 120,
     "metadata": {},
     "output_type": "execute_result"
    }
   ],
   "source": [
    "cust_driver = cust_claims.loc[(cust_claims['State'].isin(['TX','DE','AK'])) &\n",
    "                              (cust_claims['Age_Group']=='Adult') &\n",
    "                              (cust_claims['incident_cause'].isin(['Driver error',\n",
    "                                                                   'Other driver error']))]\n",
    "cust_driver['customer_id'].count()"
   ]
  },
  {
   "cell_type": "markdown",
   "id": "3c6e4c0f",
   "metadata": {},
   "source": [
    "#### Data Visualization"
   ]
  },
  {
   "cell_type": "markdown",
   "id": "2e20d7c5",
   "metadata": {},
   "source": [
    "1. Percentage claim amount based on gender and segment"
   ]
  },
  {
   "cell_type": "code",
   "execution_count": 62,
   "id": "7a739164",
   "metadata": {},
   "outputs": [
    {
     "data": {
      "text/html": [
       "<div>\n",
       "<style scoped>\n",
       "    .dataframe tbody tr th:only-of-type {\n",
       "        vertical-align: middle;\n",
       "    }\n",
       "\n",
       "    .dataframe tbody tr th {\n",
       "        vertical-align: top;\n",
       "    }\n",
       "\n",
       "    .dataframe thead th {\n",
       "        text-align: right;\n",
       "    }\n",
       "</style>\n",
       "<table border=\"1\" class=\"dataframe\">\n",
       "  <thead>\n",
       "    <tr style=\"text-align: right;\">\n",
       "      <th>gender</th>\n",
       "      <th>Female</th>\n",
       "      <th>Male</th>\n",
       "    </tr>\n",
       "    <tr>\n",
       "      <th>Segment</th>\n",
       "      <th></th>\n",
       "      <th></th>\n",
       "    </tr>\n",
       "  </thead>\n",
       "  <tbody>\n",
       "    <tr>\n",
       "      <th>Gold</th>\n",
       "      <td>0.330871</td>\n",
       "      <td>0.374106</td>\n",
       "    </tr>\n",
       "    <tr>\n",
       "      <th>Platinum</th>\n",
       "      <td>0.371607</td>\n",
       "      <td>0.295305</td>\n",
       "    </tr>\n",
       "    <tr>\n",
       "      <th>Silver</th>\n",
       "      <td>0.297523</td>\n",
       "      <td>0.330588</td>\n",
       "    </tr>\n",
       "  </tbody>\n",
       "</table>\n",
       "</div>"
      ],
      "text/plain": [
       "gender      Female      Male\n",
       "Segment                     \n",
       "Gold      0.330871  0.374106\n",
       "Platinum  0.371607  0.295305\n",
       "Silver    0.297523  0.330588"
      ]
     },
     "execution_count": 62,
     "metadata": {},
     "output_type": "execute_result"
    }
   ],
   "source": [
    "crosstab_data = pd.crosstab(index=cust_claims['Segment'],\n",
    "           columns=cust_claims['gender'],\n",
    "           values=cust_claims['claim_amount'],\n",
    "           aggfunc='sum',normalize='columns')\n",
    "\n",
    "crosstab_data"
   ]
  },
  {
   "cell_type": "code",
   "execution_count": 67,
   "id": "a35a7726",
   "metadata": {},
   "outputs": [
    {
     "data": {
      "image/png": "[encoded data removed]",
      "text/plain": [
       "<Figure size 2400x1500 with 2 Axes>"
      ]
     },
     "metadata": {},
     "output_type": "display_data"
    }
   ],
   "source": [
    "fig, axes = plt.subplots(1, 2, figsize = (8,5))\n",
    "sns.set(rc={\"figure.dpi\":300})\n",
    "\n",
    "plt.rcParams['font.size'] = 10\n",
    "\n",
    "colors = ['tab:orange','tab:blue','tab:grey']\n",
    "textprops = {\"fontsize\":10}\n",
    "\n",
    "axes[0].pie(crosstab_data.values[:,0], labels = crosstab_data.index, \n",
    "        startangle = 90, radius = 1,\n",
    "        colors = colors, textprops = textprops,\n",
    "        explode =[0,0.03,0], autopct='%1.1f%%')\n",
    "\n",
    "axes[1].pie(crosstab_data.values[:,1], labels = crosstab_data.index, \n",
    "        startangle = 90, radius = 1,\n",
    "        colors = colors, textprops = textprops,\n",
    "        explode =[0.03,0,0], autopct='%1.1f%%')\n",
    "\n",
    "\n",
    "axes[0].set_title('Female',fontsize=12)\n",
    "axes[1].set_title('Male',fontsize=12)\n",
    "\n",
    "plt.show()"
   ]
  },
  {
   "cell_type": "markdown",
   "id": "e530b0ea",
   "metadata": {},
   "source": [
    "2. Claim amount for driver related incidents for each gender"
   ]
  },
  {
   "cell_type": "code",
   "execution_count": 69,
   "id": "942500fa",
   "metadata": {},
   "outputs": [
    {
     "data": {
      "image/png": "[encoded data removed]",
      "text/plain": [
       "<Figure size 1200x600 with 1 Axes>"
      ]
     },
     "metadata": {},
     "output_type": "display_data"
    }
   ],
   "source": [
    "sns.set(rc={'figure.figsize':(4,2)})\n",
    "sns.set(rc={\"figure.dpi\":300})\n",
    "\n",
    "sns.barplot(data=cust_claims.loc[cust_claims['incident_cause'].\n",
    "                                 isin(['Driver error','Other driver error'])],\n",
    "            x=\"gender\", y=\"claim_amount\", estimator=np.sum,\n",
    "            width=0.4, errorbar=None)\n",
    "\n",
    "plt.tick_params(labelsize=6)\n",
    "plt.xlabel('Gender', fontsize=7)\n",
    "plt.ylabel('Claim Amount',fontsize=7)\n",
    "plt.title('Driver Related Incidents',fontsize=8)\n",
    "\n",
    "plt.show()"
   ]
  },
  {
   "cell_type": "markdown",
   "id": "b4155cd7",
   "metadata": {},
   "source": [
    "3. Fraudulent policy claims for each age-group"
   ]
  },
  {
   "cell_type": "code",
   "execution_count": 70,
   "id": "0a6131c8",
   "metadata": {},
   "outputs": [
    {
     "data": {
      "image/png": "[encoded data removed]",
      "text/plain": [
       "<Figure size 1200x600 with 1 Axes>"
      ]
     },
     "metadata": {},
     "output_type": "display_data"
    }
   ],
   "source": [
    "sns.set(rc={'figure.figsize':(4,2)})\n",
    "sns.set(rc={\"figure.dpi\":300})\n",
    "\n",
    "sns.barplot(data= cust_claims.loc[cust_claims['fraudulent']=='Yes'],\n",
    "            x=\"Age_Group\", y=\"claim_amount\", estimator=np.sum,\n",
    "           width=0.4, errorbar=None)\n",
    "\n",
    "plt.tick_params(labelsize=5)\n",
    "plt.xlabel('Age Group', fontsize=6)\n",
    "plt.ylabel('Claim Amount',fontsize=6)\n",
    "plt.title('Fraudulent Policy Claims',fontsize=8)\n",
    "\n",
    "plt.show()"
   ]
  },
  {
   "cell_type": "markdown",
   "id": "d1930781",
   "metadata": {},
   "source": [
    "4. Monthly trend of the total claim amount by the customers"
   ]
  },
  {
   "cell_type": "code",
   "execution_count": 71,
   "id": "909d4be8",
   "metadata": {},
   "outputs": [],
   "source": [
    "mnth_data = cust_claims.groupby(cust_claims['claim_date'].dt.month)['claim_amount'].sum()\n",
    "\n",
    "mnth_list = cust_claims['claim_date'].dt.month_name().str[:3].unique()\n",
    "\n",
    "mnth_data.index = mnth_list"
   ]
  },
  {
   "cell_type": "code",
   "execution_count": 72,
   "id": "c23f1f76",
   "metadata": {},
   "outputs": [
    {
     "data": {
      "text/plain": [
       "Index(['Jan', 'Feb', 'Mar', 'Apr', 'May', 'Jun', 'Jul', 'Aug', 'Sep', 'Oct',\n",
       "       'Nov', 'Dec'],\n",
       "      dtype='object')"
      ]
     },
     "execution_count": 72,
     "metadata": {},
     "output_type": "execute_result"
    }
   ],
   "source": [
    "mnth_data.index"
   ]
  },
  {
   "cell_type": "code",
   "execution_count": 73,
   "id": "8ef9f915",
   "metadata": {},
   "outputs": [
    {
     "data": {
      "image/png": "[encoded data removed]",
      "text/plain": [
       "<Figure size 1800x1200 with 1 Axes>"
      ]
     },
     "metadata": {},
     "output_type": "display_data"
    }
   ],
   "source": [
    "sns.set(rc={'figure.figsize':(6,4)})\n",
    "\n",
    "sns.lineplot(x=mnth_data.index, y=mnth_data.values,marker='o',markersize=4,lw=0.8)\n",
    "\n",
    "plt.tick_params(labelsize=8)\n",
    "plt.xlabel('Month', fontsize=10)\n",
    "plt.ylabel('Claim Amount',fontsize=10)\n",
    "\n",
    "plt.show()"
   ]
  },
  {
   "cell_type": "markdown",
   "id": "f3eda297",
   "metadata": {},
   "source": [
    "Maximum claim amount is in the month of October and least in November."
   ]
  },
  {
   "cell_type": "markdown",
   "id": "bb3bf80e",
   "metadata": {},
   "source": [
    "5. Average claim amount for gender and age categories, \n",
    "for fraudulent and non-fraudulent claims."
   ]
  },
  {
   "cell_type": "code",
   "execution_count": 74,
   "id": "d7b8c254",
   "metadata": {},
   "outputs": [
    {
     "data": {
      "image/png": "[encoded data removed]",
      "text/plain": [
       "<Figure size 1200x600 with 2 Axes>"
      ]
     },
     "metadata": {},
     "output_type": "display_data"
    }
   ],
   "source": [
    "fig, axes = plt.subplots(1, 2, figsize = (4,2), sharey = True)\n",
    "\n",
    "sns.barplot(data=cust_claims.loc[cust_claims['fraudulent']=='Yes'],\n",
    "            x='Age_Group',y='claim_amount',estimator='mean',hue='gender',\n",
    "            order=['Children','Youth','Adult','Senior'],hue_order=['Male','Female'],\n",
    "            errorbar=None,palette=['tab:blue','tab:orange'],ax=axes[0])\n",
    "\n",
    "sns.barplot(data=cust_claims.loc[cust_claims['fraudulent']=='No'],\n",
    "            x='Age_Group',y='claim_amount',estimator='mean',hue='gender',\n",
    "            order=['Children','Youth','Adult','Senior'],hue_order=['Male','Female'],\n",
    "            errorbar=None,palette=['tab:blue','tab:orange'],ax=axes[1])\n",
    "\n",
    "for i in range(0,2):\n",
    "    axes[i].tick_params(labelsize=5, length = 4, width = 0.5)\n",
    "    axes[i].legend(loc = 'best', fontsize = 6)\n",
    "    axes[i].grid(lw = 0.5)\n",
    "    axes[i].set_xlabel('Age Group', fontsize = 6)\n",
    "\n",
    "axes[0].set_title('fraudulent : Yes',fontsize = 8)\n",
    "axes[1].set_title('fraudulent : No',fontsize = 8)\n",
    "\n",
    "axes[0].set_ylabel('Average Claim Amount', fontsize = 7)\n",
    "axes[1].set_ylabel('')\n",
    "\n",
    "plt.show()\n",
    "\n"
   ]
  },
  {
   "cell_type": "markdown",
   "id": "690c5b25",
   "metadata": {},
   "source": [
    "Adult Male has maximum avg fraudulent claims and youth female has least."
   ]
  },
  {
   "cell_type": "markdown",
   "id": "bd5e85b6",
   "metadata": {},
   "source": [
    "#### Statistics"
   ]
  },
  {
   "cell_type": "markdown",
   "id": "6fbbedac",
   "metadata": {},
   "source": [
    "#### 1. Is there any similarity in the amount claimed by males and females?"
   ]
  },
  {
   "cell_type": "code",
   "execution_count": 75,
   "id": "9bb83399",
   "metadata": {},
   "outputs": [],
   "source": [
    "cust_M = cust_claims[cust_claims['gender']=='Male']"
   ]
  },
  {
   "cell_type": "code",
   "execution_count": 76,
   "id": "acbf7a82",
   "metadata": {},
   "outputs": [],
   "source": [
    "cust_F = cust_claims[cust_claims['gender']=='Female']"
   ]
  },
  {
   "cell_type": "code",
   "execution_count": 77,
   "id": "1694d4b3",
   "metadata": {},
   "outputs": [
    {
     "data": {
      "text/plain": [
       "12883.0"
      ]
     },
     "execution_count": 77,
     "metadata": {},
     "output_type": "execute_result"
    }
   ],
   "source": [
    "cust_M['claim_amount'].mean().round()"
   ]
  },
  {
   "cell_type": "code",
   "execution_count": 78,
   "id": "e037944c",
   "metadata": {},
   "outputs": [
    {
     "data": {
      "text/plain": [
       "12099.0"
      ]
     },
     "execution_count": 78,
     "metadata": {},
     "output_type": "execute_result"
    }
   ],
   "source": [
    "cust_F['claim_amount'].mean().round()"
   ]
  },
  {
   "cell_type": "code",
   "execution_count": 79,
   "id": "d400bcf6",
   "metadata": {},
   "outputs": [
    {
     "data": {
      "text/plain": [
       "551"
      ]
     },
     "execution_count": 79,
     "metadata": {},
     "output_type": "execute_result"
    }
   ],
   "source": [
    "cust_M['claim_amount'].count()"
   ]
  },
  {
   "cell_type": "code",
   "execution_count": 80,
   "id": "bbb8f92a",
   "metadata": {},
   "outputs": [
    {
     "data": {
      "text/plain": [
       "527"
      ]
     },
     "execution_count": 80,
     "metadata": {},
     "output_type": "execute_result"
    }
   ],
   "source": [
    "cust_F['claim_amount'].count()"
   ]
  },
  {
   "cell_type": "markdown",
   "id": "17eacd04",
   "metadata": {},
   "source": [
    " We run a hypothesis test to check if the amount claimed by males and females is statistically different or not.\n",
    "Null Hypothesis H0 : We start with the assumption that the average amounts claimed by both the genders is similar.\n",
    "    \n",
    "The Alternate Hypothesis H1 will be that the amounts claimed by male and female are different (may be greater or lesser). This implies a two tailed test.\n",
    " \n",
    "The sample size is greater than 30 (as seen by the count), so a z-test can be performed,\n",
    "even though we do not know the population standard deviation.\n",
    "Due to large sample size, from Central Limit Theorem, the condition of normality is also not important.\n",
    "    \n",
    "We set our significance level alpha as 0.05. In a two-tailed test, this is split as 0.025 on both the sides.\n",
    "    \n",
    "The Rejection region then becomes the values of test statistic Z <= -Z(2.5) and Z >= Z(2.5)\n",
    "This means for a 2-tailed test we need a Z below -1.96 or above 1.96, for the difference to be significant.  \n",
    "\n",
    "We require sample mean, sample standard deviation and sample size to conduct the test.\n",
    "   \n",
    "We calculate the z-statistic using the formula and then use the z-table to calculate the p-value from the z-score.\n",
    "    \n",
    "If the p-value is less than the significance level set by us(0.05) then we reject the Null Hypothesis that the 'claim amount by both the genders is similar'.\n",
    "    \n",
    "In python we implement this test by importing ztest from statsmodels."
   ]
  },
  {
   "cell_type": "code",
   "execution_count": 81,
   "id": "8776919e",
   "metadata": {},
   "outputs": [],
   "source": [
    "from statsmodels.stats.weightstats import ztest as ztest"
   ]
  },
  {
   "cell_type": "code",
   "execution_count": 82,
   "id": "6d6f0ce2",
   "metadata": {},
   "outputs": [
    {
     "name": "stdout",
     "output_type": "stream",
     "text": [
      "z-score: 0.9620778099755283\n",
      "p-value: 0.33601051971322204\n"
     ]
    }
   ],
   "source": [
    "# Implementing the two tailed z-test\n",
    "# The parameter 'value' is the mean difference for two sample test which we assume 0\n",
    "\n",
    "tst_z = ztest(cust_M['claim_amount'],cust_F['claim_amount'] , value=0,alternative='two-sided') \n",
    "print(f\"z-score: {tst_z[0]}\\np-value: {tst_z[1]}\")"
   ]
  },
  {
   "cell_type": "markdown",
   "id": "78fdd201",
   "metadata": {},
   "source": [
    "###### Conclusion\n",
    "As the p-value is more than 0.025, we fail to reject the Null Hypothesis. \n",
    "\n",
    "Alternatively, from z-score we can infer that since the score lies in between z crit of +/- 1.96 set by our significance level of 0.025 for two-tailed test (-1.96 < 0.9625 < 1.96), we fail to reject the null hypothesis. \n",
    "\n",
    "This implies that we do not have sufficient evidence to infer that the claim amount by males and females is significantly different from each other.\n"
   ]
  },
  {
   "cell_type": "markdown",
   "id": "6df24844",
   "metadata": {},
   "source": [
    "#### 2. Is there any relationship between age category and segment?"
   ]
  },
  {
   "cell_type": "markdown",
   "id": "d5edaa0f",
   "metadata": {},
   "source": [
    "Since we have two categorical columns, we will do a chi-square test of independence to see if there is ny relationship between them.\n",
    "Null Hypothesis H0: There is no relationship between the two categorical variables.\n",
    "\n",
    "Alternate Hypothesis H1: There is a significant relation between them.\n",
    "\n",
    "We choose an alpha (significance) of 0.05. If our p-value is less than 0.05 (or calculated value of chi square is greater than the critical chi-square value),we reject the null hypothesis.\n",
    "\n",
    "The cross-tab data is as follows:"
   ]
  },
  {
   "cell_type": "code",
   "execution_count": 83,
   "id": "482fb532",
   "metadata": {},
   "outputs": [],
   "source": [
    "crosstab_data = pd.crosstab(index=cust_claims['Segment'],\n",
    "           columns=cust_claims['Age_Group'], margins=True)"
   ]
  },
  {
   "cell_type": "code",
   "execution_count": 84,
   "id": "9fb0a80d",
   "metadata": {},
   "outputs": [
    {
     "data": {
      "text/html": [
       "<div>\n",
       "<style scoped>\n",
       "    .dataframe tbody tr th:only-of-type {\n",
       "        vertical-align: middle;\n",
       "    }\n",
       "\n",
       "    .dataframe tbody tr th {\n",
       "        vertical-align: top;\n",
       "    }\n",
       "\n",
       "    .dataframe thead th {\n",
       "        text-align: right;\n",
       "    }\n",
       "</style>\n",
       "<table border=\"1\" class=\"dataframe\">\n",
       "  <thead>\n",
       "    <tr style=\"text-align: right;\">\n",
       "      <th>Age_Group</th>\n",
       "      <th>Adult</th>\n",
       "      <th>Children</th>\n",
       "      <th>Youth</th>\n",
       "      <th>All</th>\n",
       "    </tr>\n",
       "    <tr>\n",
       "      <th>Segment</th>\n",
       "      <th></th>\n",
       "      <th></th>\n",
       "      <th></th>\n",
       "      <th></th>\n",
       "    </tr>\n",
       "  </thead>\n",
       "  <tbody>\n",
       "    <tr>\n",
       "      <th>Gold</th>\n",
       "      <td>256</td>\n",
       "      <td>1</td>\n",
       "      <td>114</td>\n",
       "      <td>371</td>\n",
       "    </tr>\n",
       "    <tr>\n",
       "      <th>Platinum</th>\n",
       "      <td>237</td>\n",
       "      <td>1</td>\n",
       "      <td>123</td>\n",
       "      <td>361</td>\n",
       "    </tr>\n",
       "    <tr>\n",
       "      <th>Silver</th>\n",
       "      <td>237</td>\n",
       "      <td>0</td>\n",
       "      <td>109</td>\n",
       "      <td>346</td>\n",
       "    </tr>\n",
       "    <tr>\n",
       "      <th>All</th>\n",
       "      <td>730</td>\n",
       "      <td>2</td>\n",
       "      <td>346</td>\n",
       "      <td>1078</td>\n",
       "    </tr>\n",
       "  </tbody>\n",
       "</table>\n",
       "</div>"
      ],
      "text/plain": [
       "Age_Group  Adult  Children  Youth   All\n",
       "Segment                                \n",
       "Gold         256         1    114   371\n",
       "Platinum     237         1    123   361\n",
       "Silver       237         0    109   346\n",
       "All          730         2    346  1078"
      ]
     },
     "execution_count": 84,
     "metadata": {},
     "output_type": "execute_result"
    }
   ],
   "source": [
    "crosstab_data"
   ]
  },
  {
   "cell_type": "markdown",
   "id": "2e42c854",
   "metadata": {},
   "source": [
    "We first drop the column corresponding to 'Children' because\n",
    "one of the requirements for chi-sq test of independence is that the frequency of each cell should be at least 5 in 80% of cells and that no cell should have an expected value less than 1.\n",
    "\n",
    "The other assumptions of chi square test, that is observations are independent and mutually exclusive, are also met."
   ]
  },
  {
   "cell_type": "markdown",
   "id": "7978296d",
   "metadata": {},
   "source": [
    " We prepare a table of expected (calculated) values as:\n",
    "    (row total*column total)/grand total\n",
    "Then we find a chi-sq value for each data point using the formula\n",
    "            (O-E)^2/E\n",
    "            and sum it to get a calculated value of chi sq.\n",
    "\n",
    "We then find the critical value of chi sq using the table, for which we need to find the degrees of freedom for the crosstab data, defined by (no.of rows – 1)* (no.of columns – 1).\n",
    "\n",
    "Comparing the calculated and critical value of chi-sq values, we accept or reject the null hypothesis.\n",
    "\n",
    "We implement this in python using the scipy library."
   ]
  },
  {
   "cell_type": "code",
   "execution_count": 85,
   "id": "4f1e639b",
   "metadata": {},
   "outputs": [],
   "source": [
    "from scipy.stats import chi2_contingency"
   ]
  },
  {
   "cell_type": "code",
   "execution_count": 86,
   "id": "e2d81229",
   "metadata": {},
   "outputs": [],
   "source": [
    "data = [[245,11,114],[226,11,123],[226,11,109]]"
   ]
  },
  {
   "cell_type": "code",
   "execution_count": 87,
   "id": "8da3392b",
   "metadata": {},
   "outputs": [],
   "source": [
    "stat, p, dof, expected = chi2_contingency(data)"
   ]
  },
  {
   "cell_type": "code",
   "execution_count": 89,
   "id": "a3f11542",
   "metadata": {},
   "outputs": [
    {
     "name": "stdout",
     "output_type": "stream",
     "text": [
      "chi sq stat: 1.0878030326557233\n",
      " p-value: 0.8962025318660247\n",
      " degrees of freedom:4            \n",
      " expected contingency table [[239.67472119  11.34758364 118.97769517]\n",
      " [233.19702602  11.04089219 115.76208178]\n",
      " [224.12825279  10.61152416 111.26022305]]\n"
     ]
    }
   ],
   "source": [
    "print(f'chi sq stat: {stat}\\n p-value: {p}\\n degrees of freedom:{dof}\\\n",
    "            \\n expected contingency table {expected}')"
   ]
  },
  {
   "cell_type": "markdown",
   "id": "145bcf87",
   "metadata": {},
   "source": [
    "#### Since the p-value of 0.896 is more than 0.05, we do not have sufficient evidence to reject the Null Hypothesis.\n",
    "Alternatively from the chi-sq table the critical value of chi-sq for dof = 4 and alpha = 0.05,\n",
    "is 9.488. Since our calculated value (1.087) is less than 9.488, therefore we fail to reject the Null Hypothesis\n",
    "that there is no significant relation between them."
   ]
  },
  {
   "cell_type": "markdown",
   "id": "53439999",
   "metadata": {},
   "source": [
    "#### Conclusion: There is no significant relation between Age Group and Segments of cards."
   ]
  },
  {
   "cell_type": "markdown",
   "id": "af7e5b0c",
   "metadata": {},
   "source": [
    "#### 3. The year 2018 has shown a significant rise in claim amounts as compared to 2016-17 fiscal average which was $10,000."
   ]
  },
  {
   "cell_type": "code",
   "execution_count": 90,
   "id": "46778fa5",
   "metadata": {},
   "outputs": [],
   "source": [
    "cust_claims_FY = cust_claims[(cust_claims['claim_date'] >= '2017-10-1') & \n",
    "            (cust_claims['claim_date'] <= '2018-9-30')]"
   ]
  },
  {
   "cell_type": "code",
   "execution_count": 91,
   "id": "b3c2c318",
   "metadata": {},
   "outputs": [
    {
     "data": {
      "text/plain": [
       "12666.0"
      ]
     },
     "execution_count": 91,
     "metadata": {},
     "output_type": "execute_result"
    }
   ],
   "source": [
    "cust_claims_FY['claim_amount'].mean().round()"
   ]
  },
  {
   "cell_type": "code",
   "execution_count": 92,
   "id": "f590822a",
   "metadata": {},
   "outputs": [
    {
     "data": {
      "text/plain": [
       "13532.293179800849"
      ]
     },
     "execution_count": 92,
     "metadata": {},
     "output_type": "execute_result"
    }
   ],
   "source": [
    "cust_claims_FY['claim_amount'].std()"
   ]
  },
  {
   "cell_type": "code",
   "execution_count": 93,
   "id": "8c1b20fb",
   "metadata": {},
   "outputs": [
    {
     "data": {
      "text/plain": [
       "575"
      ]
     },
     "execution_count": 93,
     "metadata": {},
     "output_type": "execute_result"
    }
   ],
   "source": [
    "cust_claims_FY['claim_amount'].count()"
   ]
  },
  {
   "cell_type": "markdown",
   "id": "e5e80735",
   "metadata": {},
   "source": [
    "Since we don't know the previous year's standard deviation, we will use a t-test. We can also use\n",
    "z test because for large sample sizes there is no much difference between z-test and t-test.\n",
    "\n",
    "Null Hypothesis H0: There is no significant rise in claim amounts in the 2 years. Population Mean = 10000\n",
    "\n",
    "Alternate Hypothesis H1: The rise in claim amount in the FY 2017-2018 is significant. Average > 10000\n",
    "\n",
    "We set the significance level at 0.05\n",
    "\n",
    "Our sample mean is 12668 and sample standard deviation is 13532.\n",
    "\n",
    "Using the formula for the calculated t-value, we get 4.7278\n",
    "\n",
    "dof = sample size-1 = 574\n",
    "\n",
    "From t-table for dof = 574 and alpha = 0.05, we get t-crit = 1.65"
   ]
  },
  {
   "cell_type": "code",
   "execution_count": 94,
   "id": "25c13ea3",
   "metadata": {},
   "outputs": [],
   "source": [
    "from scipy.stats import ttest_1samp"
   ]
  },
  {
   "cell_type": "code",
   "execution_count": 95,
   "id": "c41a9824",
   "metadata": {},
   "outputs": [],
   "source": [
    "t_stat, p_value = ttest_1samp(cust_claims_FY['claim_amount'], popmean=10000)"
   ]
  },
  {
   "cell_type": "code",
   "execution_count": 96,
   "id": "9c68eeec",
   "metadata": {},
   "outputs": [
    {
     "name": "stdout",
     "output_type": "stream",
     "text": [
      "t-stat 4.7247718447609435\n",
      " p-value 2.9004578875908625e-06\n"
     ]
    }
   ],
   "source": [
    "print(f't-stat {t_stat}\\n p-value {p_value}')"
   ]
  },
  {
   "cell_type": "markdown",
   "id": "5a2c3835",
   "metadata": {},
   "source": [
    "As the p-value is less than alpha, we reject the Null Hypothesis that there is no significant\n",
    "rise in claim amount in the current year.\n",
    "\n",
    "#### Conclusion: The current year has shown a significant rise in claim amounts."
   ]
  },
  {
   "cell_type": "markdown",
   "id": "4c1452a9",
   "metadata": {},
   "source": [
    "#### 4. Is there any difference between age groups and insurance claims?"
   ]
  },
  {
   "cell_type": "code",
   "execution_count": 97,
   "id": "cd1d78cf",
   "metadata": {},
   "outputs": [
    {
     "data": {
      "text/plain": [
       "Age_Group\n",
       "Adult       12921.0\n",
       "Children    22405.0\n",
       "Youth       11553.0\n",
       "Name: claim_amount, dtype: float64"
      ]
     },
     "execution_count": 97,
     "metadata": {},
     "output_type": "execute_result"
    }
   ],
   "source": [
    "cust_claims.groupby('Age_Group')['claim_amount'].mean().round()"
   ]
  },
  {
   "cell_type": "code",
   "execution_count": 98,
   "id": "f2c8682d",
   "metadata": {},
   "outputs": [
    {
     "data": {
      "text/plain": [
       "Adult       730\n",
       "Youth       346\n",
       "Children      2\n",
       "Name: Age_Group, dtype: int64"
      ]
     },
     "execution_count": 98,
     "metadata": {},
     "output_type": "execute_result"
    }
   ],
   "source": [
    "cust_claims['Age_Group'].value_counts()"
   ]
  },
  {
   "cell_type": "markdown",
   "id": "7b0c58b5",
   "metadata": {},
   "source": [
    "Since we have only 2 'Children', we will keep them out of the test."
   ]
  },
  {
   "cell_type": "code",
   "execution_count": 99,
   "id": "0218ba83",
   "metadata": {},
   "outputs": [],
   "source": [
    "data_Adult = cust_claims[cust_claims['Age_Group']=='Adult']\n",
    "data_Youth = cust_claims[cust_claims['Age_Group']=='Youth']"
   ]
  },
  {
   "cell_type": "code",
   "execution_count": 100,
   "id": "6a822408",
   "metadata": {},
   "outputs": [
    {
     "data": {
      "text/plain": [
       "13581.522613941492"
      ]
     },
     "execution_count": 100,
     "metadata": {},
     "output_type": "execute_result"
    }
   ],
   "source": [
    "data_Adult['claim_amount'].std()"
   ]
  },
  {
   "cell_type": "code",
   "execution_count": 101,
   "id": "4d61f68b",
   "metadata": {},
   "outputs": [
    {
     "data": {
      "text/plain": [
       "12875.586464382755"
      ]
     },
     "execution_count": 101,
     "metadata": {},
     "output_type": "execute_result"
    }
   ],
   "source": [
    "data_Youth['claim_amount'].std()"
   ]
  },
  {
   "cell_type": "markdown",
   "id": "b51c94e8",
   "metadata": {},
   "source": [
    "Null Hypothesis H0: The average insurance claims across both the age groups is similar.\n",
    "\n",
    "Alternate Hypothesis H1: There is a significant difference between insurance claims of both the groups. \n",
    "\n",
    "Significance level is set at 0.05\n",
    "\n",
    "We will perform two-tailed z-test."
   ]
  },
  {
   "cell_type": "code",
   "execution_count": 103,
   "id": "c4b1918f",
   "metadata": {},
   "outputs": [
    {
     "name": "stdout",
     "output_type": "stream",
     "text": [
      "z-score: 1.5699646437847392\n",
      "p-value: 0.11642333695407456\n"
     ]
    }
   ],
   "source": [
    "tst_z = ztest(data_Adult['claim_amount'],data_Youth['claim_amount'] , value=0,\n",
    "              alternative='two-sided') \n",
    "print(f\"z-score: {tst_z[0]}\\np-value: {tst_z[1]}\")"
   ]
  },
  {
   "cell_type": "markdown",
   "id": "88772886",
   "metadata": {},
   "source": [
    " Since the p-value of 1.57 is greater than the significance level set by us, \n",
    "so we fail to reject the Null Hypothesis.\n",
    "\n",
    "#### Conclusion: Average insurance claims across age groups is similar."
   ]
  },
  {
   "cell_type": "markdown",
   "id": "4060e269",
   "metadata": {},
   "source": [
    "#### 5. Is there any relationship between total number of policy claims and the claimed amount?"
   ]
  },
  {
   "cell_type": "code",
   "execution_count": 104,
   "id": "731f3b94",
   "metadata": {},
   "outputs": [],
   "source": [
    "data = cust_claims[['total_policy_claims','claim_amount']]"
   ]
  },
  {
   "cell_type": "code",
   "execution_count": 105,
   "id": "361a87ee",
   "metadata": {},
   "outputs": [
    {
     "data": {
      "text/plain": [
       "1.0    789\n",
       "2.0    105\n",
       "3.0     85\n",
       "4.0     59\n",
       "5.0     27\n",
       "6.0     10\n",
       "7.0      2\n",
       "8.0      1\n",
       "Name: total_policy_claims, dtype: int64"
      ]
     },
     "execution_count": 105,
     "metadata": {},
     "output_type": "execute_result"
    }
   ],
   "source": [
    "data['total_policy_claims'].value_counts()"
   ]
  },
  {
   "cell_type": "code",
   "execution_count": 106,
   "id": "01d54f26",
   "metadata": {},
   "outputs": [
    {
     "data": {
      "text/plain": [
       "total_policy_claims\n",
       "1.0    12519.557755\n",
       "2.0    13765.521195\n",
       "3.0    12629.424567\n",
       "4.0    11106.921402\n",
       "5.0     8530.254176\n",
       "6.0    14286.768137\n",
       "7.0    23033.000000\n",
       "8.0     3277.500000\n",
       "Name: claim_amount, dtype: float64"
      ]
     },
     "execution_count": 106,
     "metadata": {},
     "output_type": "execute_result"
    }
   ],
   "source": [
    "data.groupby('total_policy_claims')['claim_amount'].mean()"
   ]
  },
  {
   "cell_type": "markdown",
   "id": "1ac59c2e",
   "metadata": {},
   "source": [
    "Total_policy_claims is categorical, numerical and ordinal data. We will do ANOVA test since we have multiple groups to test.\n",
    "\n",
    "The length of each group should be at least 1, and at least one group with length greater than 1.\n",
    "As the above criteria is satisfied so we can run an ANOVA test on all the groups.\n",
    "\n",
    "Null Hypothesis H0: The claim amount for total number of policy claims is similar.\n",
    "\n",
    "Alternate Hypothesis H1: The mean of at least one of the groups differ."
   ]
  },
  {
   "cell_type": "code",
   "execution_count": 108,
   "id": "397e1856",
   "metadata": {},
   "outputs": [],
   "source": [
    "from scipy.stats import f_oneway"
   ]
  },
  {
   "cell_type": "code",
   "execution_count": 109,
   "id": "e9e2b59a",
   "metadata": {},
   "outputs": [
    {
     "data": {
      "text/plain": [
       "F_onewayResult(statistic=0.8381621906601839, pvalue=0.5556262018615258)"
      ]
     },
     "execution_count": 109,
     "metadata": {},
     "output_type": "execute_result"
    }
   ],
   "source": [
    "f_oneway(data.loc[data['total_policy_claims']== 1.0,'claim_amount'],\n",
    "         data.loc[data['total_policy_claims']== 2.0,'claim_amount'],\n",
    "         data.loc[data['total_policy_claims']== 3.0,'claim_amount'],\n",
    "         data.loc[data['total_policy_claims']== 4.0,'claim_amount'],\n",
    "         data.loc[data['total_policy_claims']== 5.0,'claim_amount'],\n",
    "         data.loc[data['total_policy_claims']== 6.0,'claim_amount'],\n",
    "         data.loc[data['total_policy_claims']== 7.0,'claim_amount'],\n",
    "         data.loc[data['total_policy_claims']== 8.0,'claim_amount'])"
   ]
  },
  {
   "cell_type": "markdown",
   "id": "7808fb1c",
   "metadata": {},
   "source": [
    "As p-value is greater than 0.05, we fail to reject the Null Hypothesis."
   ]
  },
  {
   "cell_type": "markdown",
   "id": "a1432e59",
   "metadata": {},
   "source": [
    "#### Conclusion: The claim amount for total number of policy claims is similar. \n",
    "Hence there is no significant relationship between the claimed amount and total policy claims."
   ]
  },
  {
   "cell_type": "code",
   "execution_count": null,
   "id": "215d65a5",
   "metadata": {},
   "outputs": [],
   "source": []
  }
 ],
 "metadata": {
  "kernelspec": {
   "display_name": "Python 3 (ipykernel)",
   "language": "python",
   "name": "python3"
  },
  "language_info": {
   "codemirror_mode": {
    "name": "ipython",
    "version": 3
   },
   "file_extension": ".py",
   "mimetype": "text/x-python",
   "name": "python",
   "nbconvert_exporter": "python",
   "pygments_lexer": "ipython3",
   "version": "3.8.3"
  }
 },
 "nbformat": 4,
 "nbformat_minor": 5
}
